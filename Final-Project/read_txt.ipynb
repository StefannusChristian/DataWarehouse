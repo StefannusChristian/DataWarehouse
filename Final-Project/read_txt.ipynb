{
 "cells": [],
 "metadata": {
  "kernelspec": {
   "display_name": "Python 3.9.18 ('gd')",
   "language": "python",
   "name": "python3"
  },
  "language_info": {
   "name": "python",
   "version": "3.9.18"
  },
  "orig_nbformat": 4,
  "vscode": {
   "interpreter": {
    "hash": "04592d3791e90006fc257cb65f35c8087ba60b339836357431e280f1c90c9004"
   }
  }
 },
 "nbformat": 4,
 "nbformat_minor": 2
}
